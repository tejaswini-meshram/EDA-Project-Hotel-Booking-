{
  "nbformat": 4,
  "nbformat_minor": 0,
  "metadata": {
    "colab": {
      "private_outputs": true,
      "provenance": [],
      "collapsed_sections": [
        "vncDsAP0Gaoa",
        "FJNUwmbgGyua",
        "w6K7xa23Elo4",
        "yQaldy8SH6Dl",
        "PH-0ReGfmX4f",
        "mDgbUHAGgjLW",
        "O_i_v8NEhb9l",
        "HhfV-JJviCcP",
        "Y3lxredqlCYt",
        "3RnN4peoiCZX",
        "x71ZqKXriCWQ",
        "7hBIi_osiCS2",
        "JlHwYmJAmNHm",
        "35m5QtbWiB9F",
        "PoPl-ycgm1ru",
        "H0kj-8xxnORC",
        "nA9Y7ga8ng1Z",
        "PBTbrJXOngz2",
        "u3PMJOP6ngxN",
        "dauF4eBmngu3",
        "bKJF3rekwFvQ",
        "MSa1f5Uengrz",
        "GF8Ens_Soomf",
        "0wOQAZs5pc--",
        "K5QZ13OEpz2H",
        "lQ7QKXXCp7Bj",
        "448CDAPjqfQr",
        "KSlN3yHqYklG",
        "t6dVpIINYklI",
        "ijmpgYnKYklI",
        "-JiQyfWJYklI",
        "EM7whBJCYoAo",
        "fge-S5ZAYoAp",
        "85gYPyotYoAp",
        "RoGjAbkUYoAp",
        "4Of9eVA-YrdM",
        "iky9q4vBYrdO",
        "F6T5p64dYrdO",
        "y-Ehk30pYrdP",
        "bamQiAODYuh1",
        "QHF8YVU7Yuh3",
        "GwzvFGzlYuh3",
        "qYpmQ266Yuh3",
        "OH-pJp9IphqM",
        "bbFf2-_FphqN",
        "_ouA3fa0phqN",
        "Seke61FWphqN",
        "PIIx-8_IphqN",
        "t27r6nlMphqO",
        "r2jJGEOYphqO",
        "b0JNsNcRphqO",
        "BZR9WyysphqO",
        "jj7wYXLtphqO",
        "eZrbJ2SmphqO",
        "rFu4xreNphqO",
        "YJ55k-q6phqO",
        "gCFgpxoyphqP",
        "OVtJsKN_phqQ",
        "lssrdh5qphqQ",
        "U2RJ9gkRphqQ",
        "1M8mcRywphqQ",
        "tgIPom80phqQ",
        "JMzcOPDDphqR",
        "x-EpHcCOp1ci",
        "X_VqEhTip1ck",
        "8zGJKyg5p1ck",
        "PVzmfK_Ep1ck",
        "n3dbpmDWp1ck",
        "ylSl6qgtp1ck",
        "ZWILFDl5p1ck",
        "M7G43BXep1ck",
        "Ag9LCva-p1cl",
        "E6MkPsBcp1cl",
        "2cELzS2fp1cl",
        "3MPXvC8up1cl",
        "NC_X3p0fY2L0",
        "UV0SzAkaZNRQ",
        "YPEH6qLeZNRQ",
        "q29F0dvdveiT",
        "EXh0U9oCveiU",
        "22aHeOlLveiV",
        "JcMwzZxoAimU",
        "8G2x9gOozGDZ",
        "gCX9965dhzqZ",
        "gIfDvo9L0UH2"
      ],
      "include_colab_link": true
    },
    "kernelspec": {
      "name": "python3",
      "display_name": "Python 3"
    },
    "language_info": {
      "name": "python"
    }
  },
  "cells": [
    {
      "cell_type": "markdown",
      "metadata": {
        "id": "view-in-github",
        "colab_type": "text"
      },
      "source": [
        "<a href=\"https://colab.research.google.com/github/tejaswini-meshram/EDA-Project-Hotel-Booking-/blob/main/EDA_Project_Hotel_Booking.ipynb\" target=\"_parent\"><img src=\"https://colab.research.google.com/assets/colab-badge.svg\" alt=\"Open In Colab\"/></a>"
      ]
    },
    {
      "cell_type": "markdown",
      "source": [
        "# **Project Name**    - **Hotel Booking Analysis using Python**\n",
        "\n"
      ],
      "metadata": {
        "id": "vncDsAP0Gaoa"
      }
    },
    {
      "cell_type": "markdown",
      "source": [
        "##### **Project Type**    - EDA\n",
        "##### **Contribution**    - Individual\n",
        "##### **Name**    - Tejaswini Meshram"
      ],
      "metadata": {
        "id": "beRrZCGUAJYm"
      }
    },
    {
      "cell_type": "markdown",
      "source": [
        "# **Project Summary -**"
      ],
      "metadata": {
        "id": "FJNUwmbgGyua"
      }
    },
    {
      "cell_type": "markdown",
      "source": [
        "HotelBooking Analysis EDA project is related to hotel reservations and includes a variety of city hotels and resort hotels. There are 119390 rows and 32 columns in the given dataset. Data collection, data cleaning and manipulation, and EDA (Exploratory Data Analysis) are the categories into which the workflow for data manipulation is divided. The first step i.e. data collection to find different columns which is done by coding head(),tail(),info(),describe(),and other methods used for data collection.the names of some of the columns, including hotel, is_cancelled,lead_time, arrival_date_year, arrival_date_month, arrival_date_week_number, arrival_date_day_of_month, and stays_in_weekend_nights, have been updated as data collection process.\n",
        "\n",
        "Further,we identify the distinct value for each column, create a list in tabular format, and also verify the dataset type for each column. Identify some columns with inaccurate data types and fix them afterward. As we discover duplicate ,the duplicate data items must be removed.\n",
        "After that find the missing values using isna() methodand  fill the missing values from each columns with appropriate values using fill() method .\n",
        "\n",
        "To get better understanding and business analysis charts are used."
      ],
      "metadata": {
        "id": "F6v_1wHtG2nS"
      }
    },
    {
      "cell_type": "markdown",
      "source": [
        "# **GitHub Link -**"
      ],
      "metadata": {
        "id": "w6K7xa23Elo4"
      }
    },
    {
      "cell_type": "markdown",
      "source": [
        "Link: https://github.com/tejaswini-meshram/EDA-Project-Hotel-Booking-\n",
        "\n",
        "README file : https://github.com/tejaswini-meshram/EDA-Project-Hotel-Booking-/blob/main/README.md"
      ],
      "metadata": {
        "id": "h1o69JH3Eqqn"
      }
    },
    {
      "cell_type": "markdown",
      "source": [
        "# **Problem Statement**\n"
      ],
      "metadata": {
        "id": "yQaldy8SH6Dl"
      }
    },
    {
      "cell_type": "markdown",
      "source": [
        "In this project I will be analysing Hotel Booking dataset. This dataset\n",
        "contains information of city hotel and resort hotel, and includes information of booking time, length of stay, number of adults, childrens and babies, etc.\n",
        "\n",
        "The objective of this project is to explore and analyze the data to discover important factors that helps in optimizing hotel operations, enhancing customer experiences, and improving overall booking efficiency.\n",
        "\n"
      ],
      "metadata": {
        "id": "DpeJGUA3kjGy"
      }
    },
    {
      "cell_type": "markdown",
      "source": [
        "#### **Define Your Business Objective?**"
      ],
      "metadata": {
        "id": "PH-0ReGfmX4f"
      }
    },
    {
      "cell_type": "markdown",
      "source": [
        "Objective of this project is to explore and analyse the given hotel booking dataset and discover important buisness inshights with use of visualizations."
      ],
      "metadata": {
        "id": "PhDvGCAqmjP1"
      }
    },
    {
      "cell_type": "markdown",
      "source": [
        "# **General Guidelines** : -  "
      ],
      "metadata": {
        "id": "mDgbUHAGgjLW"
      }
    },
    {
      "cell_type": "markdown",
      "source": [
        "1.   Well-structured, formatted, and commented code is required.\n",
        "2.   Exception Handling, Production Grade Code & Deployment Ready Code will be a plus. Those students will be awarded some additional credits.\n",
        "     \n",
        "     The additional credits will have advantages over other students during Star Student selection.\n",
        "       \n",
        "             [ Note: - Deployment Ready Code is defined as, the whole .ipynb notebook should be executable in one go\n",
        "                       without a single error logged. ]\n",
        "\n",
        "3.   Each and every logic should have proper comments.\n",
        "4. You may add as many number of charts you want. Make Sure for each and every chart the following format should be answered.\n",
        "        \n",
        "\n",
        "```\n",
        "# Chart visualization code\n",
        "```\n",
        "            \n",
        "\n",
        "*   Why did you pick the specific chart?\n",
        "*   What is/are the insight(s) found from the chart?\n",
        "* Will the gained insights help creating a positive business impact?\n",
        "Are there any insights that lead to negative growth? Justify with specific reason.\n",
        "\n",
        "5. You have to create at least 20 logical & meaningful charts having important insights.\n",
        "\n",
        "\n",
        "[ Hints : - Do the Vizualization in  a structured way while following \"UBM\" Rule.\n",
        "\n",
        "U - Univariate Analysis,\n",
        "\n",
        "B - Bivariate Analysis (Numerical - Categorical, Numerical - Numerical, Categorical - Categorical)\n",
        "\n",
        "M - Multivariate Analysis\n",
        " ]\n",
        "\n",
        "\n",
        "\n"
      ],
      "metadata": {
        "id": "ZrxVaUj-hHfC"
      }
    },
    {
      "cell_type": "markdown",
      "source": [
        "# ***Let's Begin !***"
      ],
      "metadata": {
        "id": "O_i_v8NEhb9l"
      }
    },
    {
      "cell_type": "markdown",
      "source": [
        "## ***1. Know Your Data***"
      ],
      "metadata": {
        "id": "HhfV-JJviCcP"
      }
    },
    {
      "cell_type": "markdown",
      "source": [
        "### Import Libraries"
      ],
      "metadata": {
        "id": "Y3lxredqlCYt"
      }
    },
    {
      "cell_type": "code",
      "source": [
        "# Import Libraries\n",
        "import pandas as pd\n",
        "import numpy as np\n",
        "import matplotlib.pyplot as plt\n",
        "import seaborn as sns\n",
        "from datetime import datetime\n"
      ],
      "metadata": {
        "id": "M8Vqi-pPk-HR"
      },
      "execution_count": null,
      "outputs": []
    },
    {
      "cell_type": "markdown",
      "source": [
        "### Dataset Loading"
      ],
      "metadata": {
        "id": "3RnN4peoiCZX"
      }
    },
    {
      "cell_type": "code",
      "source": [
        "# Load Dataset\n",
        "from google.colab import drive\n",
        "drive.mount('/content/drive')"
      ],
      "metadata": {
        "id": "4CkvbW_SlZ_R"
      },
      "execution_count": null,
      "outputs": []
    },
    {
      "cell_type": "code",
      "source": [
        "db=\"/content/drive/MyDrive/content/Copy of Hotel Bookings.csv\"\n",
        "hotel_booking_df=pd.read_csv(db)"
      ],
      "metadata": {
        "id": "JMChtH9F1rys"
      },
      "execution_count": null,
      "outputs": []
    },
    {
      "cell_type": "markdown",
      "source": [
        "### Dataset First View"
      ],
      "metadata": {
        "id": "x71ZqKXriCWQ"
      }
    },
    {
      "cell_type": "code",
      "source": [
        "# Dataset First Look\n",
        "hotel_booking_df"
      ],
      "metadata": {
        "id": "LWNFOSvLl09H"
      },
      "execution_count": null,
      "outputs": []
    },
    {
      "cell_type": "markdown",
      "source": [
        "### Dataset Rows & Columns count"
      ],
      "metadata": {
        "id": "7hBIi_osiCS2"
      }
    },
    {
      "cell_type": "code",
      "source": [
        "# Dataset Rows & Columns count\n",
        "hotel_booking_df.shape"
      ],
      "metadata": {
        "id": "Kllu7SJgmLij"
      },
      "execution_count": null,
      "outputs": []
    },
    {
      "cell_type": "markdown",
      "source": [
        "### Dataset Information"
      ],
      "metadata": {
        "id": "JlHwYmJAmNHm"
      }
    },
    {
      "cell_type": "code",
      "source": [
        "# Dataset Info\n",
        "hotel_booking_df.info()"
      ],
      "metadata": {
        "id": "e9hRXRi6meOf"
      },
      "execution_count": null,
      "outputs": []
    },
    {
      "cell_type": "markdown",
      "source": [
        "#### Duplicate Values"
      ],
      "metadata": {
        "id": "35m5QtbWiB9F"
      }
    },
    {
      "cell_type": "code",
      "source": [
        "# Dataset Duplicate Value Count\n",
        "hotel_booking_df.duplicated().sum()"
      ],
      "metadata": {
        "id": "1sLdpKYkmox0"
      },
      "execution_count": null,
      "outputs": []
    },
    {
      "cell_type": "code",
      "source": [
        "#droping all the duplicate rows\n",
        "hotel_booking_df.drop_duplicates(inplace=True)\n",
        "hotel_booking_df.duplicated().sum()"
      ],
      "metadata": {
        "id": "YIHT7XEAH3ck"
      },
      "execution_count": null,
      "outputs": []
    },
    {
      "cell_type": "code",
      "source": [
        "#number of unique rows\n",
        "hotel_booking_df.shape[0]"
      ],
      "metadata": {
        "id": "cVdlOUX0OlFf"
      },
      "execution_count": null,
      "outputs": []
    },
    {
      "cell_type": "code",
      "source": [
        "hotel_booking_df.reset_index()"
      ],
      "metadata": {
        "id": "TEZcBzjLXhJi"
      },
      "execution_count": null,
      "outputs": []
    },
    {
      "cell_type": "markdown",
      "source": [
        "#### Missing Values/Null Values"
      ],
      "metadata": {
        "id": "PoPl-ycgm1ru"
      }
    },
    {
      "cell_type": "code",
      "source": [
        "# Missing Values/Null Values Count\n",
        "hotel_booking_df.fillna(np.nan,inplace=True) #replace all the missing values with NaN\n",
        "hotel_booking_df.isna().sum()  #count of all the null values from each column"
      ],
      "metadata": {
        "id": "GgHWkxvamxVg"
      },
      "execution_count": null,
      "outputs": []
    },
    {
      "cell_type": "markdown",
      "source": [
        "### What did you know about your dataset?"
      ],
      "metadata": {
        "id": "H0kj-8xxnORC"
      }
    },
    {
      "cell_type": "markdown",
      "source": [
        "A single file in this data collection analyses different booking details between two types of hotels that are city hotels and resort hotels. The dataset includes the details such as type of hotel, arrival time and date, number of adults, childrens and babies, reservation status, reservation date and other information. There are in total 32 columns and 119390 rows out of which 87396 rows are unique.There are some missing values which are replaced later and some inaccurate datatype."
      ],
      "metadata": {
        "id": "gfoNAAC-nUe_"
      }
    },
    {
      "cell_type": "markdown",
      "source": [
        "## ***2. Understanding Your Variables***"
      ],
      "metadata": {
        "id": "nA9Y7ga8ng1Z"
      }
    },
    {
      "cell_type": "code",
      "source": [
        "# Dataset Columns\n",
        "hotel_booking_df.columns"
      ],
      "metadata": {
        "id": "j7xfkqrt5Ag5"
      },
      "execution_count": null,
      "outputs": []
    },
    {
      "cell_type": "code",
      "source": [
        "# Dataset Describe\n",
        "hotel_booking_df.describe()"
      ],
      "metadata": {
        "id": "DnOaZdaE5Q5t"
      },
      "execution_count": null,
      "outputs": []
    },
    {
      "cell_type": "markdown",
      "source": [
        "### Variables Description"
      ],
      "metadata": {
        "id": "PBTbrJXOngz2"
      }
    },
    {
      "cell_type": "markdown",
      "source": [
        "List of columns and data it contain-\n",
        "\n",
        "\n",
        "1.   **hotel**:Name of the hotel(Resort Hotel or City Hotel)\n",
        "2.   **is_canceled**: If the booking was canceled(1) or not(0)\n",
        "3.   **lead_time**: number of days before the actual arrival of the guests\n",
        "4.   **arrival_date_year**: year of arrival date\n",
        "5.   **arrival_date_month**: month of month arrival date\n",
        "6.   **arrival_date_week_month**: Week number of year for arrival date\n",
        "7.   **arrival_date_day_of_month**: Day of arrival date\n",
        "8.   **stays_in_weekend_nights**: Number of weekend nights (Saturday or Sunday) spent at the hotel by the guests.\n",
        "9.   **stays_in_week_nights**: Number of week nights (Monday to Friday) spent at the hotel by the guests.\n",
        "10.  **adults**: Number of adults among guests\n",
        "11.  **children**: Number of children among guests\n",
        "12.  **babies**: Number of babies among guests\n",
        "13.  **meal**: Type of meal booked\n",
        "14.  **country**: Country guests belongs to\n",
        "15.  **market_segment**: Designation of market segment\n",
        "16.  **distribution_channel**: Name of booking distribution channel\n",
        "17.  **Is_repeated_guest**: If the booking was from repeated guest(1) or not(0)\n",
        "18.  **previous_cancellations**: Number of previous bookings that were cancelled by the customer prior to the current booking\n",
        "19.  **previous_bookings_not_cancelled**: Number of previous bookings not cancelled by the customer prior to the current booking\n",
        "20.  **reserved_room_type**: Code of room type reserved\n",
        "21.  **assigned_room_type**: Code of room type assigned\n",
        "22.  **booking_changes**: Number of changes/amendments made to the booking\n",
        "23.  **deposit_type**: Type of the deposit made by the guest\n",
        "24.  **agent**: ID of travel agent who made the booking\n",
        "25.  **company**: ID of the company that made the booking\n",
        "26.  **days_in_waiting_list**: Number of days the booking was in waiting list\n",
        "27.  **customer_type**: Type of customer, assuming one of four categories\n",
        "28.  **adr**: Average Daily Rate, as defined by dividing the sum of all lodging transactions by the total number of staying nights\n",
        "29.  **required_car_parking_spaces**: Number of car parking spaces required by the customer\n",
        "30.  **total_of_special_requests**: Number of special requests made by the customer\n",
        "31.  **reservation_status**: Reservation status (Cancelled, Check-Out or No-Show)\n",
        "32.  **reservation_status**: Date at which the last reservation status was updated\n",
        "\n",
        "\n",
        "\n"
      ],
      "metadata": {
        "id": "aJV4KIxSnxay"
      }
    },
    {
      "cell_type": "markdown",
      "source": [
        "### Check Unique Values for each variable."
      ],
      "metadata": {
        "id": "u3PMJOP6ngxN"
      }
    },
    {
      "cell_type": "code",
      "source": [
        "#  Unique Values for each variable.\n",
        "hotel_booking_df.apply(lambda col: col.unique())"
      ],
      "metadata": {
        "id": "zms12Yq5n-jE"
      },
      "execution_count": null,
      "outputs": []
    },
    {
      "cell_type": "markdown",
      "source": [
        "## 3. ***Data Wrangling***"
      ],
      "metadata": {
        "id": "dauF4eBmngu3"
      }
    },
    {
      "cell_type": "markdown",
      "source": [
        "### Data Wrangling Code"
      ],
      "metadata": {
        "id": "bKJF3rekwFvQ"
      }
    },
    {
      "cell_type": "code",
      "source": [
        "# replace all the nan values with appropriate replacement\n",
        "hotel_booking_df['company'].fillna(0,inplace=True)\n",
        "hotel_booking_df['children'].fillna(0,inplace=True)\n",
        "hotel_booking_df['agent'].fillna(0,inplace=True)\n",
        "hotel_booking_df['country'].fillna(\"others\",inplace=True)\n",
        "hotel_booking_df.isna().sum()"
      ],
      "metadata": {
        "id": "wk-9a2fpoLcV"
      },
      "execution_count": null,
      "outputs": []
    },
    {
      "cell_type": "code",
      "source": [
        "# total night stays including weekend and weekdays nights\n",
        "hotel_booking_df['total_nights_stay']= hotel_booking_df['stays_in_week_nights'] + hotel_booking_df['stays_in_weekend_nights']\n",
        "hotel_booking_df[['stays_in_week_nights','stays_in_weekend_nights','total_nights_stay']]"
      ],
      "metadata": {
        "id": "JmVNbR5FUChl"
      },
      "execution_count": null,
      "outputs": []
    },
    {
      "cell_type": "code",
      "source": [
        "# total guests including adults, childrens, and babies\n",
        "hotel_booking_df['total_guests']=hotel_booking_df['adults']+hotel_booking_df['children']+hotel_booking_df['babies']\n",
        "hotel_booking_df[['adults','children','babies','total_guests']]"
      ],
      "metadata": {
        "id": "9kE-dLiwVuBu"
      },
      "execution_count": null,
      "outputs": []
    },
    {
      "cell_type": "code",
      "source": [
        "#revenue per booking\n",
        "hotel_booking_df['revenue']=hotel_booking_df['total_nights_stay']*hotel_booking_df['adr']\n",
        "hotel_booking_df[['total_nights_stay','adr','revenue']]"
      ],
      "metadata": {
        "id": "CaoFM0gZWvgn"
      },
      "execution_count": null,
      "outputs": []
    },
    {
      "cell_type": "code",
      "source": [
        "#revenue for each hotel type\n",
        "total_revenue_for_hotel_type=hotel_booking_df.groupby('hotel')['revenue'].sum()\n",
        "total_revenue_for_hotel_type\n"
      ],
      "metadata": {
        "id": "NYKEcXpdcmc8"
      },
      "execution_count": null,
      "outputs": []
    },
    {
      "cell_type": "code",
      "source": [
        "hotel_booking_df[['hotel','revenue']]"
      ],
      "metadata": {
        "id": "GlQUfBOihbBT"
      },
      "execution_count": null,
      "outputs": []
    },
    {
      "cell_type": "markdown",
      "source": [
        "### What all manipulations have you done and insights you found?"
      ],
      "metadata": {
        "id": "MSa1f5Uengrz"
      }
    },
    {
      "cell_type": "markdown",
      "source": [
        "Following data cleaning and manipulation is done on hotel booking dataset-\n",
        "\n",
        "\n",
        "1.   **Drop Duplicates**:\n",
        "In this we first found out the number of duplicate rows present in dataset and we discovered that there are in total 31994 duplicate rows present using duplicated() function .Then using drop_duplicates() we deleted all the duplicate rows .Total 87396 unique rows are found to be present.\n",
        "\n",
        "2.   **Fill Missing Value**:\n",
        "Missing values are replaced using replace() function with NaN using fillna() function and np.nan from numpy library . We discovered that there are total 4 nan values in children column, 425 nan values in country column, 12193 nan values in agent column, 82137 nan values in company column.\n",
        "\n",
        "3.  **Replace NaN values**:\n",
        "The Nan values from each column are replaced with appropriate values using replace function. Children column contains number of childrens so the nan values are filled with 0. Country column contain the country of origin of guests so the nan values are replaced by \"other\".Agent and company column values are also replaced by 0.\n",
        "\n",
        "4.  **Add columns**:\n",
        " According to need following columns are made:\n",
        "*   total_nights_stay : this include sum of all the week and weekends nights.\n",
        "*   total_guests : this include all the guests including adults,children,and babies.\n",
        "*   revenue : this include the revenue generated for each booking calculated by multiplying total_nights_stay with adr.\n",
        "5. Revenue for each hotel type is also calulated by first grouping the different type of hotel with groupby() function and then adding all the revenue values using sum() function.From this calculation it is found that the total reevnue for city hotel is 18774101.54 and for resort hotel is 15686837.77.\n",
        "\n",
        "\n",
        "\n",
        "\n"
      ],
      "metadata": {
        "id": "LbyXE7I1olp8"
      }
    },
    {
      "cell_type": "markdown",
      "source": [
        "## ***4. Data Vizualization, Storytelling & Experimenting with charts : Understand the relationships between variables***"
      ],
      "metadata": {
        "id": "GF8Ens_Soomf"
      }
    },
    {
      "cell_type": "markdown",
      "source": [
        "#### Chart - 1"
      ],
      "metadata": {
        "id": "0wOQAZs5pc--"
      }
    },
    {
      "cell_type": "code",
      "source": [
        "# Chart - 1 visualization code\n",
        "def column_count(df,column):\n",
        "  df_new=df[column].value_counts()\n",
        "  df_new=pd.DataFrame({'hotel':df_new.index, 'count':df_new.values})\n",
        "  return df_new\n",
        "\n",
        "hotel_count=column_count(hotel_booking_df,'hotel')\n",
        "hotel_count"
      ],
      "metadata": {
        "id": "7v_ESjsspbW7"
      },
      "execution_count": null,
      "outputs": []
    },
    {
      "cell_type": "code",
      "source": [
        "plt.figure(figsize=(10,6))\n",
        "plt.pie(data=hotel_count,x=hotel_count.loc[:,'count'],startangle=90,autopct='%1.2f%%')\n",
        "plt.legend(hotel_count.loc[:,'hotel'])\n",
        "plt.title(\"BOOKING IN HOTEL TYPE\",color='black')\n",
        "plt.show()"
      ],
      "metadata": {
        "id": "BUyLBRvNigSa"
      },
      "execution_count": null,
      "outputs": []
    },
    {
      "cell_type": "markdown",
      "source": [
        "##### 1. Why did you pick the specific chart?"
      ],
      "metadata": {
        "id": "K5QZ13OEpz2H"
      }
    },
    {
      "cell_type": "markdown",
      "source": [
        "For showing the distribution of data of two different hotel type, pie chart is the most suitable one as the pie chart visualizes the data distribution effectively and analysis becomes easier."
      ],
      "metadata": {
        "id": "XESiWehPqBRc"
      }
    },
    {
      "cell_type": "markdown",
      "source": [
        "##### 2. What is/are the insight(s) found from the chart?"
      ],
      "metadata": {
        "id": "lQ7QKXXCp7Bj"
      }
    },
    {
      "cell_type": "markdown",
      "source": [
        "From the above chart we found that **61.13%** of total hotel booking is contributed by city hotel and **38.87%** is of resort type ,i.e, city hotel has more number of bookings then resort hotel.\n",
        "\n"
      ],
      "metadata": {
        "id": "C_j1G7yiqdRP"
      }
    },
    {
      "cell_type": "markdown",
      "source": [
        "##### 3. Will the gained insights help creating a positive business impact?\n",
        "Are there any insights that lead to negative growth? Justify with specific reason."
      ],
      "metadata": {
        "id": "448CDAPjqfQr"
      }
    },
    {
      "cell_type": "markdown",
      "source": [
        "City hotel has more number of booking so more attention should be given on services.\n",
        "\n",
        "Resort hotel should find solution to attract customers in order to improve revenue generation."
      ],
      "metadata": {
        "id": "3cspy4FjqxJW"
      }
    },
    {
      "cell_type": "markdown",
      "source": [
        "#### Chart - 2"
      ],
      "metadata": {
        "id": "KSlN3yHqYklG"
      }
    },
    {
      "cell_type": "code",
      "source": [
        "# Revenue over year\n",
        "plt.style.use('seaborn-v0_8-whitegrid')\n",
        "plt.figure(figsize=(10,5))\n",
        "sns.lineplot(data=hotel_booking_df,x='arrival_date_year',y='revenue')\n",
        "plt.title(\"REVENUE OVER PAST YEARS\",color='black')\n",
        "plt.xlabel(\"year\")\n",
        "plt.show()"
      ],
      "metadata": {
        "id": "R4YgtaqtYklH"
      },
      "execution_count": null,
      "outputs": []
    },
    {
      "cell_type": "markdown",
      "source": [
        "##### 1. Why did you pick the specific chart?"
      ],
      "metadata": {
        "id": "t6dVpIINYklI"
      }
    },
    {
      "cell_type": "markdown",
      "source": [
        "As the chart is suppose to display clearly how revenue increased or droped with respect to year, a line chart will be perfect visualization to represent such data analysis."
      ],
      "metadata": {
        "id": "5aaW0BYyYklI"
      }
    },
    {
      "cell_type": "markdown",
      "source": [
        "##### 2. What is/are the insight(s) found from the chart?"
      ],
      "metadata": {
        "id": "ijmpgYnKYklI"
      }
    },
    {
      "cell_type": "markdown",
      "source": [
        "From the chart we can confidently say that the revenue of both the hotel type has increased since 2016 and constantly increasing."
      ],
      "metadata": {
        "id": "PSx9atu2YklI"
      }
    },
    {
      "cell_type": "markdown",
      "source": [
        "##### 3. Will the gained insights help creating a positive business impact?\n",
        "Are there any insights that lead to negative growth? Justify with specific reason."
      ],
      "metadata": {
        "id": "-JiQyfWJYklI"
      }
    },
    {
      "cell_type": "markdown",
      "source": [
        "The changes that might have applied to the management and organization are appropriate and are showing a positive impact on revenue generation."
      ],
      "metadata": {
        "id": "BcBbebzrYklV"
      }
    },
    {
      "cell_type": "markdown",
      "source": [
        "#### Chart - 3"
      ],
      "metadata": {
        "id": "EM7whBJCYoAo"
      }
    },
    {
      "cell_type": "code",
      "source": [
        "#calculating count of each meal\n",
        "meal_order_count=hotel_booking_df['meal'].value_counts()\n",
        "meal_order_count=pd.DataFrame({'meal' : meal_order_count.index, 'count' : meal_order_count.values})\n",
        "meal_order_count"
      ],
      "metadata": {
        "id": "t6GMdE67YoAp"
      },
      "execution_count": null,
      "outputs": []
    },
    {
      "cell_type": "code",
      "source": [
        "#Visualizing distribution of each meal\n",
        "sns.barplot(data=meal_order_count,x='meal',y='count',hue='count',palette='deep')\n",
        "plt.title('MEAL ORDER DISTRIBUTION',color='black')\n",
        "plt.show()"
      ],
      "metadata": {
        "id": "dld-PX3Sjjf6"
      },
      "execution_count": null,
      "outputs": []
    },
    {
      "cell_type": "markdown",
      "source": [
        "##### 1. Why did you pick the specific chart?"
      ],
      "metadata": {
        "id": "fge-S5ZAYoAp"
      }
    },
    {
      "cell_type": "markdown",
      "source": [
        "The order count of each meal is most appropriately represented by a bar chart as the order count of each meal category can be visualized clearly usng bar chart."
      ],
      "metadata": {
        "id": "5dBItgRVYoAp"
      }
    },
    {
      "cell_type": "markdown",
      "source": [
        "##### 2. What is/are the insight(s) found from the chart?"
      ],
      "metadata": {
        "id": "85gYPyotYoAp"
      }
    },
    {
      "cell_type": "markdown",
      "source": [
        "From the above chart we can say that 'BB' meal has most orders among all 5 types of meal. 'Undefined'and 'FB' has least orders. 'SC' and 'HB' has almost equal orders."
      ],
      "metadata": {
        "id": "4jstXR6OYoAp"
      }
    },
    {
      "cell_type": "markdown",
      "source": [
        "##### 3. Will the gained insights help creating a positive business impact?\n",
        "Are there any insights that lead to negative growth? Justify with specific reason."
      ],
      "metadata": {
        "id": "RoGjAbkUYoAp"
      }
    },
    {
      "cell_type": "markdown",
      "source": [
        "Feadback should be taken from the customers for improvement in each meal.\n",
        "\n",
        "As 'BB' meal has most number of orders the stock of 'BB' meal should always be available .\n",
        "\n",
        "More improvement should be done to improve 'SC' and 'HB' orders such as quantity and quality or according to need of customers.\n",
        "\n",
        "More efforts and reserch should be done to improve sell of 'FB' and 'Undefined' meal."
      ],
      "metadata": {
        "id": "zfJ8IqMcYoAp"
      }
    },
    {
      "cell_type": "markdown",
      "source": [
        "#### Chart - 4"
      ],
      "metadata": {
        "id": "4Of9eVA-YrdM"
      }
    },
    {
      "cell_type": "code",
      "source": [
        "# Chart - 4 visualization code\n",
        "hotel_booking_df['is_repeated_guest']=hotel_booking_df['is_repeated_guest'].replace([0,1],['not_repeated','repeated'])\n",
        "repeated_guests=hotel_booking_df['is_repeated_guest'].value_counts()\n",
        "repeated_guests=pd.DataFrame({'repeated':repeated_guests.index,'count':repeated_guests.values})\n",
        "repeated_guests"
      ],
      "metadata": {
        "id": "irlUoxc8YrdO"
      },
      "execution_count": null,
      "outputs": []
    },
    {
      "cell_type": "code",
      "source": [
        "plt.figure(figsize=(10,6))\n",
        "plt.pie(data=repeated_guests,x=repeated_guests.loc[:,'count'],startangle=90,autopct='%1.2f%%')\n",
        "plt.legend(repeated_guests.loc[:,'repeated'])\n",
        "plt.title(\"Percentage of Repeated Guests\",color='black')\n",
        "plt.show()"
      ],
      "metadata": {
        "id": "8sfe9KtNAA-w"
      },
      "execution_count": null,
      "outputs": []
    },
    {
      "cell_type": "markdown",
      "source": [
        "##### 1. Why did you pick the specific chart?"
      ],
      "metadata": {
        "id": "iky9q4vBYrdO"
      }
    },
    {
      "cell_type": "markdown",
      "source": [
        "For showing the percentage of repeated guests pie chart is suitable, using pie chart makes it easy to analyse the data distribution."
      ],
      "metadata": {
        "id": "aJRCwT6DYrdO"
      }
    },
    {
      "cell_type": "markdown",
      "source": [
        "##### 2. What is/are the insight(s) found from the chart?"
      ],
      "metadata": {
        "id": "F6T5p64dYrdO"
      }
    },
    {
      "cell_type": "markdown",
      "source": [
        "from the above chart we found that only 3.91% guests are repeated and 96.09% of guests are not repeated"
      ],
      "metadata": {
        "id": "Xx8WAJvtYrdO"
      }
    },
    {
      "cell_type": "markdown",
      "source": [
        "##### 3. Will the gained insights help creating a positive business impact?\n",
        "Are there any insights that lead to negative growth? Justify with specific reason."
      ],
      "metadata": {
        "id": "y-Ehk30pYrdP"
      }
    },
    {
      "cell_type": "markdown",
      "source": [
        "Yes,From the above chart we found that most of the customers are not repeated\n",
        "which should be concerning as it indicates negative growth of the buisness.\n",
        "\n",
        "More attention should be given on customer retention stratergy such as targeted marketing ,improving guests experience, quality in service etc."
      ],
      "metadata": {
        "id": "jLNxxz7MYrdP"
      }
    },
    {
      "cell_type": "markdown",
      "source": [
        "#### Chart - 5"
      ],
      "metadata": {
        "id": "bamQiAODYuh1"
      }
    },
    {
      "cell_type": "code",
      "source": [
        "# Chart - 5 visualization code\n",
        "plt.figure(figsize=(10,6))\n",
        "sns.boxplot(data=hotel_booking_df,y='lead_time',x='customer_type',hue='customer_type')\n",
        "plt.title(\"Lead Time for Customer type\",color='black')\n",
        "plt.show()"
      ],
      "metadata": {
        "id": "TIJwrbroYuh3"
      },
      "execution_count": null,
      "outputs": []
    },
    {
      "cell_type": "markdown",
      "source": [
        "##### 1. Why did you pick the specific chart?"
      ],
      "metadata": {
        "id": "QHF8YVU7Yuh3"
      }
    },
    {
      "cell_type": "markdown",
      "source": [
        "Box chart is pick to identify the outliers of lead time from each customer type and distribution of lead time."
      ],
      "metadata": {
        "id": "dcxuIMRPYuh3"
      }
    },
    {
      "cell_type": "markdown",
      "source": [
        "##### 2. What is/are the insight(s) found from the chart?"
      ],
      "metadata": {
        "id": "GwzvFGzlYuh3"
      }
    },
    {
      "cell_type": "markdown",
      "source": [
        "From the above chart we found that customer type Transient has maximum outliers followed by Group. Contract and Transient-Party customer type has high lead time and Group customer type has lowest lead time."
      ],
      "metadata": {
        "id": "uyqkiB8YYuh3"
      }
    },
    {
      "cell_type": "markdown",
      "source": [
        "##### 3. Will the gained insights help creating a positive business impact?\n",
        "Are there any insights that lead to negative growth? Justify with specific reason."
      ],
      "metadata": {
        "id": "qYpmQ266Yuh3"
      }
    },
    {
      "cell_type": "markdown",
      "source": [
        "Steps should be taken to handel outliers as it can lead to negative growth and to reduce lead time ."
      ],
      "metadata": {
        "id": "_WtzZ_hCYuh4"
      }
    },
    {
      "cell_type": "markdown",
      "source": [
        "#### Chart - 6"
      ],
      "metadata": {
        "id": "OH-pJp9IphqM"
      }
    },
    {
      "cell_type": "code",
      "source": [
        "# Chart - 6 visualization code\n",
        "distribution_channel_count=hotel_booking_df['distribution_channel'].value_counts()\n",
        "distribution_channel_count=pd.DataFrame({'distribution_channel' : distribution_channel_count.index, 'count' : distribution_channel_count.values})\n",
        "distribution_channel_count\n"
      ],
      "metadata": {
        "id": "kuRf4wtuphqN"
      },
      "execution_count": null,
      "outputs": []
    },
    {
      "cell_type": "code",
      "source": [
        "sns.barplot(data=distribution_channel_count,x='distribution_channel',y='count',hue='count',palette='deep')\n",
        "plt.title('DISTRIBUTION CHANNEL VOLUME',color='black')\n",
        "plt.show()"
      ],
      "metadata": {
        "id": "n1PBXSObaMEM"
      },
      "execution_count": null,
      "outputs": []
    },
    {
      "cell_type": "markdown",
      "source": [
        "##### 1. Why did you pick the specific chart?"
      ],
      "metadata": {
        "id": "bbFf2-_FphqN"
      }
    },
    {
      "cell_type": "markdown",
      "source": [
        "To show the number of bookings done by different distribution channel bar chart is used."
      ],
      "metadata": {
        "id": "loh7H2nzphqN"
      }
    },
    {
      "cell_type": "markdown",
      "source": [
        "##### 2. What is/are the insight(s) found from the chart?"
      ],
      "metadata": {
        "id": "_ouA3fa0phqN"
      }
    },
    {
      "cell_type": "markdown",
      "source": [
        "From the above chart we found that TA/TO Distribution channel has maximum number of bookings(69141) whereas GDS(181) and Undefined(5) Distribution channel has least number of booking. Direct(12988) and Corporate(181) distribution channels also has very less numberof bookings."
      ],
      "metadata": {
        "id": "VECbqPI7phqN"
      }
    },
    {
      "cell_type": "markdown",
      "source": [
        "##### 3. Will the gained insights help creating a positive business impact?\n",
        "Are there any insights that lead to negative growth? Justify with specific reason."
      ],
      "metadata": {
        "id": "Seke61FWphqN"
      }
    },
    {
      "cell_type": "markdown",
      "source": [
        "TA/TO distribution channel has highest number of booking which will help in increase the revenue generation of hotel. So the marketing stratergies and customer engagement should be prioritize.\n",
        "\n",
        "Along with booking numbers across channels might highlight inefficiencies or challenges in certain distribution channels. Identifying and addressing these issues can lead to a more balanced and efficient distribution strategy."
      ],
      "metadata": {
        "id": "DW4_bGpfphqN"
      }
    },
    {
      "cell_type": "markdown",
      "source": [
        "#### Chart - 7"
      ],
      "metadata": {
        "id": "PIIx-8_IphqN"
      }
    },
    {
      "cell_type": "code",
      "source": [
        "# Chart - 7 visualization code\n",
        "country_guest_count=hotel_booking_df.groupby('country')['total_guests'].sum()\n",
        "\n",
        "country_guest_count.sort_values(ascending=False,inplace=True)\n",
        "country_guest_count=pd.DataFrame({'country':country_guest_count.index,'guest_count':country_guest_count.values})\n",
        "top_10_country_guest_count=country_guest_count.head(10)\n",
        "top_10_country_guest_count"
      ],
      "metadata": {
        "id": "lqAIGUfyphqO"
      },
      "execution_count": null,
      "outputs": []
    },
    {
      "cell_type": "code",
      "source": [
        "plt.figure(figsize=(10,8))\n",
        "plt.pie(data=top_10_country_guest_count,x=top_10_country_guest_count.loc[:,'guest_count'],startangle=90,labels='guest_count',labeldistance=0.8)\n",
        "plt.legend(top_10_country_guest_count.loc[:,'country'])\n",
        "plt.title(\"TOP 10 COUNTRIES WITH MOST GUESTS\",color='black')\n",
        "plt.show()"
      ],
      "metadata": {
        "id": "NwdpfQmvoSb2"
      },
      "execution_count": null,
      "outputs": []
    },
    {
      "cell_type": "markdown",
      "source": [
        "##### 1. Why did you pick the specific chart?"
      ],
      "metadata": {
        "id": "t27r6nlMphqO"
      }
    },
    {
      "cell_type": "markdown",
      "source": [
        "To show the distribution of top 10 counties with most guests we use pie chart.Pie chart is the most suitable one as the pie chart visualizes the data distribution effectively and analysis becomes easier."
      ],
      "metadata": {
        "id": "iv6ro40sphqO"
      }
    },
    {
      "cell_type": "markdown",
      "source": [
        "##### 2. What is/are the insight(s) found from the chart?"
      ],
      "metadata": {
        "id": "r2jJGEOYphqO"
      }
    },
    {
      "cell_type": "markdown",
      "source": [
        "Top 10 countries with most number of guests are given in pie chart. PRT has highest number of guests( 52411) and NLD has 10th highest number of guests(3906)."
      ],
      "metadata": {
        "id": "Po6ZPi4hphqO"
      }
    },
    {
      "cell_type": "markdown",
      "source": [
        "##### 3. Will the gained insights help creating a positive business impact?\n",
        "Are there any insights that lead to negative growth? Justify with specific reason."
      ],
      "metadata": {
        "id": "b0JNsNcRphqO"
      }
    },
    {
      "cell_type": "markdown",
      "source": [
        "While having a large number of guests from a particular country (e.g., PRT) is positive, over-dependency on specific markets may pose a risk. Economic or geopolitical changes in that country could impact travel patterns, leading to a potential downturn in business.\n",
        "\n",
        " It's essential for businesses to be mindful of potential risks associated with market dependency and consider strategies for diversification and staying competitive in the long run."
      ],
      "metadata": {
        "id": "xvSq8iUTphqO"
      }
    },
    {
      "cell_type": "markdown",
      "source": [
        "#### Chart - 8"
      ],
      "metadata": {
        "id": "BZR9WyysphqO"
      }
    },
    {
      "cell_type": "code",
      "source": [
        "# Chart - 8 visualization code\n",
        "busiest_month_count=hotel_booking_df['arrival_date_month'].value_counts()\n",
        "busiest_month_count=pd.DataFrame({'arrival_date_month' : busiest_month_count.index, 'count' : busiest_month_count.values})\n",
        "busiest_month_count.sort_values('count',ascending=False,inplace=True)\n",
        "busiest_month_count"
      ],
      "metadata": {
        "id": "TdPTWpAVphqO"
      },
      "execution_count": null,
      "outputs": []
    },
    {
      "cell_type": "code",
      "source": [
        "plt.figure(figsize=(10,8))\n",
        "sns.lineplot(data=busiest_month_count,x='arrival_date_month',y='count',palette='deep')\n",
        "plt.title('MONTHLY BOOKING DISTRIBUTION',color='black')\n",
        "plt.show()"
      ],
      "metadata": {
        "id": "qKCT6XmIw4-f"
      },
      "execution_count": null,
      "outputs": []
    },
    {
      "cell_type": "markdown",
      "source": [
        "##### 1. Why did you pick the specific chart?"
      ],
      "metadata": {
        "id": "jj7wYXLtphqO"
      }
    },
    {
      "cell_type": "markdown",
      "source": [
        "Line chart is picked to show the monthly booking distribution. As the chart is suppose to display clearly how booking increased or decreases with respect to month, a line chart will be perfect visualization to represent such data analysis."
      ],
      "metadata": {
        "id": "Ob8u6rCTphqO"
      }
    },
    {
      "cell_type": "markdown",
      "source": [
        "##### 2. What is/are the insight(s) found from the chart?"
      ],
      "metadata": {
        "id": "eZrbJ2SmphqO"
      }
    },
    {
      "cell_type": "markdown",
      "source": [
        "From the above chart it is found that month of May, June and July the hotel are the busiest months. Starting and ending months of the year has less number of bookings."
      ],
      "metadata": {
        "id": "mZtgC_hjphqO"
      }
    },
    {
      "cell_type": "markdown",
      "source": [
        "##### 3. Will the gained insights help creating a positive business impact?\n",
        "Are there any insights that lead to negative growth? Justify with specific reason."
      ],
      "metadata": {
        "id": "rFu4xreNphqO"
      }
    },
    {
      "cell_type": "markdown",
      "source": [
        "While the peak months bring increased bookings, there is a risk of over-dependency on seasonal patterns. Businesses heavily reliant on specific seasons may face challenges during off-peak times, requiring strategies for diversification or attracting customers during slower periods.\n"
      ],
      "metadata": {
        "id": "ey_0qi68phqO"
      }
    },
    {
      "cell_type": "markdown",
      "source": [
        "#### Chart - 9"
      ],
      "metadata": {
        "id": "M98PQKHKsT2T"
      }
    },
    {
      "cell_type": "code",
      "source": [
        "# Chart - 9 visualization code\n",
        "avg_adr=hotel_booking_df.groupby('hotel')['adr'].mean()\n",
        "\n",
        "avg_adr=pd.DataFrame({'hotel':avg_adr.index,'avg_adr':avg_adr.values})\n",
        "avg_adr"
      ],
      "metadata": {
        "id": "AA4jBcRUsT2V"
      },
      "execution_count": null,
      "outputs": []
    },
    {
      "cell_type": "code",
      "source": [
        "sns.barplot(data=avg_adr,x='hotel',y='avg_adr',hue='hotel',palette='deep')\n",
        "plt.title('Avg ADR of each Hotel type',color='black')\n",
        "plt.show()"
      ],
      "metadata": {
        "id": "nE7XAu7qsT2V"
      },
      "execution_count": null,
      "outputs": []
    },
    {
      "cell_type": "markdown",
      "source": [
        "##### 1. Why did you pick the specific chart?"
      ],
      "metadata": {
        "id": "o2YXsYg6sT2W"
      }
    },
    {
      "cell_type": "markdown",
      "source": [
        "To show the average adr of different hotel type bar chart is best suitable as bar chart makes it is easy to read and understand such data."
      ],
      "metadata": {
        "id": "yArlV_0gsT2W"
      }
    },
    {
      "cell_type": "markdown",
      "source": [
        "##### 2. What is/are the insight(s) found from the chart?"
      ],
      "metadata": {
        "id": "vHaOuu5MsT2W"
      }
    },
    {
      "cell_type": "markdown",
      "source": [
        "From the above chart we found that city hotel has higher avg adr as compared to resort hotel.\n",
        "\n",
        "City hotels are generating more revenue than the resort hotels."
      ],
      "metadata": {
        "id": "oNJPieLbsT2X"
      }
    },
    {
      "cell_type": "markdown",
      "source": [
        "##### 3. Will the gained insights help creating a positive business impact?\n",
        "Are there any insights that lead to negative growth? Justify with specific reason."
      ],
      "metadata": {
        "id": "crzQd8g-sT2X"
      }
    },
    {
      "cell_type": "markdown",
      "source": [
        " Strategic planning should involve a balanced approach, considering the potential in both city and resort hotels, while also ensuring customer satisfaction and adaptability to changing market conditions."
      ],
      "metadata": {
        "id": "75B7eapTsT2X"
      }
    },
    {
      "cell_type": "markdown",
      "source": [
        "#### Chart - 10"
      ],
      "metadata": {
        "id": "NsB2T93zsfjN"
      }
    },
    {
      "cell_type": "code",
      "source": [
        "# Chart - 10 visualization code\n",
        "avg_lead_time=hotel_booking_df.groupby('hotel')['lead_time'].mean()\n",
        "\n",
        "avg_lead_time=pd.DataFrame({'hotel':avg_lead_time.index,'avg_lead_time':avg_lead_time.values})\n",
        "avg_lead_time"
      ],
      "metadata": {
        "id": "LxgVQg1SsfjO"
      },
      "execution_count": null,
      "outputs": []
    },
    {
      "cell_type": "code",
      "source": [
        "sns.barplot(data=avg_lead_time,x='hotel',y='avg_lead_time',hue='hotel',palette='deep')\n",
        "plt.title('Avg Lead time of each Hotel type',color='black')\n",
        "plt.show()\n"
      ],
      "metadata": {
        "id": "ZBkwdff3sfjO"
      },
      "execution_count": null,
      "outputs": []
    },
    {
      "cell_type": "markdown",
      "source": [
        "##### 1. Why did you pick the specific chart?"
      ],
      "metadata": {
        "id": "QJnzl9r0sfjP"
      }
    },
    {
      "cell_type": "markdown",
      "source": [
        "To show the average lead time of different hotel type bar chart is best suitable as bar chart makes it is easy to read and understand such data."
      ],
      "metadata": {
        "id": "bNrpZg3XsfjP"
      }
    },
    {
      "cell_type": "markdown",
      "source": [
        "##### 2. What is/are the insight(s) found from the chart?"
      ],
      "metadata": {
        "id": "19qkHz2FsfjQ"
      }
    },
    {
      "cell_type": "markdown",
      "source": [
        "Average lead time for resort hotel is high. It means people plan their trip too early. Usually people prefer resort hotels for longer stays."
      ],
      "metadata": {
        "id": "TV2Niy2LsfjQ"
      }
    },
    {
      "cell_type": "markdown",
      "source": [
        "##### 3. Will the gained insights help creating a positive business impact?\n",
        "Are there any insights that lead to negative growth? Justify with specific reason."
      ],
      "metadata": {
        "id": "69NzIu3YsfjR"
      }
    },
    {
      "cell_type": "markdown",
      "source": [
        "Strategic planning should involve a balanced approach, considering the potential in both city and resort hotels, while also ensuring customer satisfaction and adaptability to changing market conditions."
      ],
      "metadata": {
        "id": "O4Av09rnsfjR"
      }
    },
    {
      "cell_type": "markdown",
      "source": [
        "#### Chart - 11"
      ],
      "metadata": {
        "id": "fUXMGTJrrwkS"
      }
    },
    {
      "cell_type": "code",
      "source": [
        "# Chart - 11 visualization code\n",
        "avg_adr_distribution_channel= hotel_booking_df.groupby(['hotel','distribution_channel'])['adr'].mean().unstack()\n",
        "avg_adr_distribution_channel"
      ],
      "metadata": {
        "id": "7Nv3UESYrwkT"
      },
      "execution_count": null,
      "outputs": []
    },
    {
      "cell_type": "code",
      "source": [
        "avg_adr_distribution_channel.plot(kind='bar',figsize=(8,8))\n",
        "plt.ylabel(\"ADR\")\n",
        "plt.title(\"ADR for each Distribution channel\")\n",
        "plt.show()"
      ],
      "metadata": {
        "id": "CiTI8x7zrwkU"
      },
      "execution_count": null,
      "outputs": []
    },
    {
      "cell_type": "markdown",
      "source": [
        "##### 1. Why did you pick the specific chart?"
      ],
      "metadata": {
        "id": "mQLfx2gcrwkU"
      }
    },
    {
      "cell_type": "markdown",
      "source": [
        "To show the average lead time of different hotel type bar chart is best suitable as bar chart makes it is easy to read and understand such data."
      ],
      "metadata": {
        "id": "kShNe0VErwkU"
      }
    },
    {
      "cell_type": "markdown",
      "source": [
        "##### 2. What is/are the insight(s) found from the chart?"
      ],
      "metadata": {
        "id": "G0vmE_UBrwkV"
      }
    },
    {
      "cell_type": "markdown",
      "source": [
        "From the above chart we found that for city hotel GDS distribution channel has highest adr and least ADR is Undefined. For resort hotel corporate distribution channel has least adr and highest adr is of Undefined distribution channel."
      ],
      "metadata": {
        "id": "LQ5g_NCXrwkV"
      }
    },
    {
      "cell_type": "markdown",
      "source": [
        "##### 3. Will the gained insights help creating a positive business impact?\n",
        "Are there any insights that lead to negative growth? Justify with specific reason."
      ],
      "metadata": {
        "id": "22Bbg5SrrwkW"
      }
    },
    {
      "cell_type": "markdown",
      "source": [
        "Undefined is the least ADR for resort hotels and Corporate has least adr for city hotels may indicate a lack of clarity or control over this distribution channel. If this channel represents a significant portion of bookings, it could lead to revenue loss. Clear strategies and efforts to define and optimize this channel may be necessary.\n",
        "\n",
        "If the channel is strategically important, efforts to optimize it, such as negotiating better rates or providing additional incentives, may be required to maximize revenue."
      ],
      "metadata": {
        "id": "b5VtQWRTrwkW"
      }
    },
    {
      "cell_type": "markdown",
      "source": [
        "#### Chart - 12"
      ],
      "metadata": {
        "id": "mYSGE2sbtSLC"
      }
    },
    {
      "cell_type": "code",
      "source": [
        "# Chart - 12 visualization code\n",
        "hotel_booking_df['is_canceled']=hotel_booking_df['is_canceled'].replace([0,1],['not_canceled','canceled'])\n",
        "canceled_booking=hotel_booking_df[['hotel','is_canceled']].value_counts().unstack()\n",
        "canceled_booking"
      ],
      "metadata": {
        "id": "Mymp8RidtSLD"
      },
      "execution_count": null,
      "outputs": []
    },
    {
      "cell_type": "code",
      "source": [
        "plt.figure(figsize=(20,10))\n",
        "canceled_booking.plot(kind='pie',figsize=(15,10),subplots=True,startangle=90,autopct='%1.2f%%')\n",
        "plt.title(\"Percentage of canceled booking\",color='black',loc='center')\n",
        "plt.show()"
      ],
      "metadata": {
        "id": "8xWo2GtXtSLD"
      },
      "execution_count": null,
      "outputs": []
    },
    {
      "cell_type": "markdown",
      "source": [
        "##### 1. Why did you pick the specific chart?"
      ],
      "metadata": {
        "id": "L2cVXBH8tSLE"
      }
    },
    {
      "cell_type": "markdown",
      "source": [
        "For showing the percentage of canceled booking of different hotel type a pie chart is suitable, using pie chart makes it easy to analyse the data distribution."
      ],
      "metadata": {
        "id": "_IF4WOObtSLE"
      }
    },
    {
      "cell_type": "markdown",
      "source": [
        "##### 2. What is/are the insight(s) found from the chart?"
      ],
      "metadata": {
        "id": "-4xBDGPwtSLF"
      }
    },
    {
      "cell_type": "markdown",
      "source": [
        "From the above chart we found that 66.80% of bookings were cancelled for city type hotels.\n",
        "33.20% of booking were canceled for resort type hotel.\n",
        "\n",
        "58.98% of booking were not canceled by city hotels.\n",
        "41.02% of bookings were not canceled by resort hotels.\n"
      ],
      "metadata": {
        "id": "JznaD-OTtSLF"
      }
    },
    {
      "cell_type": "markdown",
      "source": [
        "##### 3. Will the gained insights help creating a positive business impact?\n",
        "Are there any insights that lead to negative growth? Justify with specific reason."
      ],
      "metadata": {
        "id": "Sr5RwiMgtSLF"
      }
    },
    {
      "cell_type": "markdown",
      "source": [
        "The lower cancellation rate for resort hotels (33.20%) indicates a higher level of booking stability. This can be advantageous for revenue predictability and resource planning.\n",
        "\n",
        "There are potential negative growth factors related to revenue uncertainty, customer perception, and market competition. Businesses should use this information to refine their strategies, optimize booking policies, and enhance customer satisfaction to mitigate any adverse effects on growth."
      ],
      "metadata": {
        "id": "GmsKg_IftSLG"
      }
    },
    {
      "cell_type": "markdown",
      "source": [
        "#### Chart - 13"
      ],
      "metadata": {
        "id": "pvO-Run0tTmz"
      }
    },
    {
      "cell_type": "code",
      "source": [
        "# Chart - 9 visualization code\n",
        "arrival_date_month_adr=hotel_booking_df.groupby('arrival_date_month')['adr'].mean()\n",
        "arrival_date_month_adr=pd.DataFrame({'arrival_date_month':arrival_date_month_adr.index,'avg_adr':arrival_date_month_adr.values})\n",
        "arrival_date_month_adr"
      ],
      "metadata": {
        "id": "-zlSm8uatTm0"
      },
      "execution_count": null,
      "outputs": []
    },
    {
      "cell_type": "code",
      "source": [
        "plt.style.use('seaborn-v0_8-whitegrid')\n",
        "plt.figure(figsize=(10,5))\n",
        "sns.lineplot(data=arrival_date_month_adr,x='arrival_date_month',y='avg_adr')\n",
        "plt.title(\"avg ADR for Months\",color='black')\n",
        "plt.xlabel(\"arrival_date_month\")\n",
        "plt.show()"
      ],
      "metadata": {
        "id": "pOh99KFjtTm1"
      },
      "execution_count": null,
      "outputs": []
    },
    {
      "cell_type": "markdown",
      "source": [
        "##### 1. Why did you pick the specific chart?"
      ],
      "metadata": {
        "id": "DLWbkLuBtTm1"
      }
    },
    {
      "cell_type": "markdown",
      "source": [
        "As the chart is suppose to display clearly how avg_adr increased or decreases with respect to months, a line chart will be perfect visualization to represent such data analysis."
      ],
      "metadata": {
        "id": "K9Tl-ja3tTm2"
      }
    },
    {
      "cell_type": "markdown",
      "source": [
        "##### 2. What is/are the insight(s) found from the chart?"
      ],
      "metadata": {
        "id": "YccfXkUotTm2"
      }
    },
    {
      "cell_type": "markdown",
      "source": [
        "From the above chart it is found that month of May, June ,July and august the adr is high. Starting and ending months of the year has less ADR.\n",
        "\n",
        "ADR is highest in month of August."
      ],
      "metadata": {
        "id": "8sKKxLwxtTm2"
      }
    },
    {
      "cell_type": "markdown",
      "source": [
        "##### 3. Will the gained insights help creating a positive business impact?\n",
        "Are there any insights that lead to negative growth? Justify with specific reason."
      ],
      "metadata": {
        "id": "CFRT8N44tTm2"
      }
    },
    {
      "cell_type": "markdown",
      "source": [
        "The insights into ADR trends across different months can help in revenue optimization and strategic planning. However, businesses should also address the challenges associated with low ADR months and avoid overdependence on peak seasons. A well-rounded approach that considers both high and low seasons will contribute to sustained positive business growth."
      ],
      "metadata": {
        "id": "qXmi4NEHtTm3"
      }
    },
    {
      "cell_type": "markdown",
      "source": [
        "#### Chart - 14 - Correlation Heatmap"
      ],
      "metadata": {
        "id": "NC_X3p0fY2L0"
      }
    },
    {
      "cell_type": "code",
      "source": [
        "# Correlation Heatmap visualization code\n",
        "corr_df=hotel_booking_df[['lead_time','previous_cancellations','previous_bookings_not_canceled','total_guests','booking_changes','days_in_waiting_list','adr',\n",
        "                          'required_car_parking_spaces','total_of_special_requests']]\n",
        "\n",
        "plt.figure(figsize=(10,8))\n",
        "sns.heatmap(data=corr_df.corr(),annot=True,fmt='.2f')\n",
        "plt.title(\"Correlation Heatmap\",color='black')\n",
        "plt.show()"
      ],
      "metadata": {
        "id": "xyC9zolEZNRQ"
      },
      "execution_count": null,
      "outputs": []
    },
    {
      "cell_type": "markdown",
      "source": [
        "##### 1. Why did you pick the specific chart?"
      ],
      "metadata": {
        "id": "UV0SzAkaZNRQ"
      }
    },
    {
      "cell_type": "markdown",
      "source": [
        "A heat correlation chart is used to visually represent the correlation or relationship between two or more variables in a dataset. It displays a matrix of colors, with each cell representing the correlation coefficient between corresponding pairs of variables."
      ],
      "metadata": {
        "id": "DVPuT8LYZNRQ"
      }
    },
    {
      "cell_type": "markdown",
      "source": [
        "##### 2. What is/are the insight(s) found from the chart?"
      ],
      "metadata": {
        "id": "YPEH6qLeZNRQ"
      }
    },
    {
      "cell_type": "markdown",
      "source": [
        "The above heat correlation chart has highest positive correlation of 0.39  between total_guests and adr\n",
        "\n",
        "negative correlation of -0.11 between total_guests and previous_bookings_not_canceled"
      ],
      "metadata": {
        "id": "bfSqtnDqZNRR"
      }
    },
    {
      "cell_type": "markdown",
      "source": [
        "## **5. Solution to Business Objective**"
      ],
      "metadata": {
        "id": "JcMwzZxoAimU"
      }
    },
    {
      "cell_type": "markdown",
      "source": [
        "#### What do you suggest the client to achieve Business Objective ?\n",
        "\n",
        "\n",
        "*   Identify the factors that are responsible for non repeatative bookings as  96.09 % of guests are non repeating.\n",
        "\n",
        "*   Since city hotels have a higher cancellation rate (66.80%), it may be beneficial to evaluate and potentially adjust booking policies.\n",
        "\n",
        "*   Tailor marketing strategies and services for each country customers to enhance customer satisfaction and loyalty so that the booking from customers from all potential countries increases.\n",
        "\n",
        "*   Regularly monitor booking trends, analyze customer feedback, and adapt strategies based on changing market dynamics. This ongoing analysis will help the client stay agile and responsive to shifts in customer behavior.\n",
        "\n",
        "*   Consider offering special packages, discounts, or exclusive experiences to attract more bookings during these high-demand periods.\n",
        "\n",
        "*   Implement flexible pricing models to attract guests during the starting and ending months. Consider offering lower rates, special deals, or promotions to incentivize bookings during less busy periods.\n",
        "\n"
      ],
      "metadata": {
        "id": "8G2x9gOozGDZ"
      }
    },
    {
      "cell_type": "markdown",
      "source": [
        "# **Conclusion**"
      ],
      "metadata": {
        "id": "gCX9965dhzqZ"
      }
    },
    {
      "cell_type": "markdown",
      "source": [
        "\n",
        "\n",
        "*   The guests showed a preference for city type hotel, making it a busiest type of hotel.\n",
        "*   Only 3.9 % of people revisited the hotel, indecating a low retention time.\n",
        "*   The revenue is increasing after 2016.\n",
        "*   'BB' meal is most ordered meal.\n",
        "*   TA/TO distribution channel has highest number of bookings.\n",
        "*   Country 'PRT' has highest number of guests.\n",
        "*   The mid year has more number of bookings making hotels busiers and increasing revenue generation.\n",
        "*   Resort hotels have high lead time as compared to city hotels.\n",
        "*   Mid year has high ADR compared to other months.\n",
        "\n"
      ],
      "metadata": {
        "id": "Fjb1IsQkh3yE"
      }
    },
    {
      "cell_type": "markdown",
      "source": [
        "### ***Hurrah! You have successfully completed your EDA Capstone Project !!!***"
      ],
      "metadata": {
        "id": "gIfDvo9L0UH2"
      }
    }
  ]
}